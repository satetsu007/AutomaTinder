{
 "cells": [
  {
   "cell_type": "code",
   "execution_count": null,
   "metadata": {},
   "outputs": [],
   "source": [
    "# coding: utf-8\n",
    "import os\n",
    "import numpy as np\n",
    "import sys\n",
    "import pickle\n",
    "import warnings\n",
    "import cv2\n",
    "from tqdm import tqdm\n",
    "import matplotlib.pyplot as plt\n",
    "warnings.filterwarnings('ignore')\n",
    "\n",
    "# Dataset.pyの格納先を環境変数に追加する\n",
    "sys.path.append(\"../src/utils\")\n",
    "sys.path.append(\"../src\")\n",
    "from Dataset import Dataset\n",
    "from FaceDetect import FaceCrop\n",
    "\n",
    "# 転移学習用\n",
    "from keras import optimizers\n",
    "from keras.utils.np_utils import to_categorical\n",
    "from keras.applications.vgg16 import VGG16\n",
    "from keras.layers import Dense, Dropout, Flatten, Input, Activation\n",
    "from keras.models import Model, Sequential\n",
    "from keras.callbacks import CSVLogger\n",
    "from keras.callbacks import ModelCheckpoint\n",
    "\n",
    "from keras.models import load_model\n",
    "\n",
    "%matplotlib inline"
   ]
  },
  {
   "cell_type": "code",
   "execution_count": null,
   "metadata": {},
   "outputs": [],
   "source": [
    "# モデルの読み込み\n",
    "model_dir = \"../models/VGG16_finetuning\"\n",
    "model_path = \"{}/VGG16.h5\".format(model_dir)\n",
    "\n",
    "model = load_model(model_path, compile=False)\n",
    "print(\"モデルの概要\")\n",
    "model.summary()"
   ]
  },
  {
   "cell_type": "code",
   "execution_count": null,
   "metadata": {},
   "outputs": [],
   "source": [
    "# 学習済み重みのロード\n",
    "weights_path = \"{}/VGG16_93.h5\".format(model_dir)\n",
    "model.load_weights(weights_path)"
   ]
  },
  {
   "cell_type": "code",
   "execution_count": null,
   "metadata": {},
   "outputs": [],
   "source": [
    "# データセットを定義\n",
    "dataset = Dataset()\n",
    "# pickleの格納先\n",
    "pickle_path = \"../data/dataset.pkl\"\n",
    "# pickleからデータセットを読み込む\n",
    "dataset.read_pickle(pickle_path)\n",
    "\n",
    "# 学習データとテストデータの割合\n",
    "ratio = 0.2\n",
    "# 学習データとテストデータに分ける\n",
    "dataset.split_data(ratio)\n",
    "\n",
    "dataset.y_train = to_categorical(dataset.y_train)\n",
    "dataset.y_test = to_categorical(dataset.y_test)"
   ]
  },
  {
   "cell_type": "code",
   "execution_count": null,
   "metadata": {},
   "outputs": [],
   "source": [
    "# 顔検出用\n",
    "face_cascade_path = '../models/xml/haarcascade_frontalface_default.xml'\n",
    "face_cascade = cv2.CascadeClassifier(face_cascade_path)\n",
    "demo_dir = \"../data/demo\""
   ]
  },
  {
   "cell_type": "code",
   "execution_count": null,
   "metadata": {
    "scrolled": true
   },
   "outputs": [],
   "source": [
    "print(\"-\"*50)\n",
    "print(\"画像に写っている人が好みか判定するよ！\")\n",
    "print(\"写真のファイル名を入力してね: \", end=\"\")\n",
    "img_name = input()\n",
    "print(\"\")\n",
    "print(\"\")\n",
    "img_path = \"{}/{}\".format(demo_dir, img_name)\n",
    "try:\n",
    "    img = cv2.imread(img_path)\n",
    "    img = cv2.cvtColor(img, cv2.COLOR_BGR2RGB)\n",
    "    gray = cv2.cvtColor(img, cv2.COLOR_BGR2GRAY)\n",
    "except:\n",
    "    print(\"ファイル名を確認してください！\")\n",
    "\n",
    "print(\"↓\", img_name)\n",
    "plt.imshow(img)\n",
    "plt.show()\n",
    "\n",
    "print(\"顔を検出します...\")\n",
    "faces = face_cascade.detectMultiScale(gray, 1.3, 5)\n",
    "detect_faces = []\n",
    "if len(faces)==0:\n",
    "    print(\"顔が検出されませんでした\")\n",
    "for i, (x,y,w,h) in enumerate(faces):\n",
    "    detect_img = FaceCrop(img, ratio, x, y, w, h)\n",
    "    detect_img = cv2.resize(detect_img, dsize=(100, 100))\n",
    "    plt.imshow(detect_img)\n",
    "    plt.show()\n",
    "    detect_img = detect_img.reshape((1, 100, 100, 3))\n",
    "    print(\"[好みじゃない確率, 好みの確率]\")\n",
    "    y = model.predict(detect_img)\n",
    "    print(y)"
   ]
  },
  {
   "cell_type": "code",
   "execution_count": null,
   "metadata": {},
   "outputs": [],
   "source": []
  }
 ],
 "metadata": {
  "kernelspec": {
   "display_name": "Python 3",
   "language": "python",
   "name": "python3"
  },
  "language_info": {
   "codemirror_mode": {
    "name": "ipython",
    "version": 3
   },
   "file_extension": ".py",
   "mimetype": "text/x-python",
   "name": "python",
   "nbconvert_exporter": "python",
   "pygments_lexer": "ipython3",
   "version": "3.6.5"
  }
 },
 "nbformat": 4,
 "nbformat_minor": 2
}
