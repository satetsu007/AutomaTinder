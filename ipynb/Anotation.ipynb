{
 "cells": [
  {
   "cell_type": "code",
   "execution_count": 6,
   "metadata": {},
   "outputs": [],
   "source": [
    "import os\n",
    "import numpy as np\n",
    "import pandas as pd\n",
    "from google_images_download import google_images_download\n",
    "import sys\n",
    "import matplotlib.pyplot as plt\n",
    "import random\n",
    "from tqdm import tqdm\n",
    "\n",
    "sys.path.append(\"../src/utils\")\n",
    "sys.path.append(\"../src\")\n",
    "\n",
    "from Dataset import Dataset\n",
    "\n",
    "plt.style.use(\"ggplot\")\n",
    "\n",
    "%matplotlib inline"
   ]
  },
  {
   "cell_type": "code",
   "execution_count": 13,
   "metadata": {},
   "outputs": [
    {
     "name": "stdout",
     "output_type": "stream",
     "text": [
      "ブルゾンちえみ\tハリセンボン\t阿佐ヶ谷姉妹\tガンバレルーヤ\tニッチェ\n",
      "尼神インター\tおかずクラブ\t森三中\t柴田理恵\tいとうあさこ\n",
      "渡辺直美\t海原やすよ・ともこ\tオアシズ\tイモトアヤコ\t前田敦子\n",
      "柏木由紀\t小嶋陽菜\t板野友美\t指原莉乃\t高橋みなみ\n",
      "渡辺麻友\t大島優子\t峯岸みなみ\t篠田麻里子\t吉岡里帆\n",
      "黒木華\t堀北真希\t松岡茉優\t小松菜奈\t芳根京子\n",
      "浜辺美波\t葵わかな\t上白石萌歌\t波瑠\t川栄李奈\n",
      "広瀬アリス\t趣里\t有村架純\t上白石萌音\t土屋太鳳\n",
      "栗山千明\t橋本環奈\t森川葵\t本田翼\t広瀬すず\n",
      "清野菜名\t中条あやみ\t杉咲花\t桜田ひより\t今田美桜\n",
      "桜井日奈子\t永野芽郁\t新木優子\t高畑充希\t"
     ]
    }
   ],
   "source": [
    "category_path = \"../data/org\"\n",
    "\n",
    "name_list = []\n",
    "\n",
    "for category in [category for category in os.listdir(category_path) if category!=\".DS_Store\"]:\n",
    "    folder_path = \"{}/{}\".format(category_path, category)\n",
    "    for folder in [folder for folder in os.listdir(folder_path) if folder!=\".DS_Store\"]:\n",
    "        name_list.append(folder)\n",
    "        \n",
    "# 女性リスト\n",
    "for i, name in enumerate(name_list):\n",
    "    if (i+1) % 5==0:\n",
    "        print(name)\n",
    "    else:\n",
    "        print(name, end=\"\\t\")"
   ]
  },
  {
   "cell_type": "code",
   "execution_count": 18,
   "metadata": {},
   "outputs": [
    {
     "name": "stdout",
     "output_type": "stream",
     "text": [
      "--------------------------------------------------\n",
      "好みの女性\n",
      "篠田麻里子\t前田敦子\t波瑠\t永野芽郁\t新木優子\n",
      "浜辺美波\t吉岡里帆\t杉咲花\t堀北真希\t栗山千明\n",
      "清野菜名\t本田翼\t小松菜奈\t有村架純\t広瀬すず\n",
      "松岡茉優\t中条あやみ\t\n",
      "--------------------------------------------------\n",
      "好みでないの女性\n",
      "ブルゾンちえみ\tハリセンボン\t阿佐ヶ谷姉妹\tガンバレルーヤ\tニッチェ\n",
      "尼神インター\tおかずクラブ\t森三中\t柴田理恵\tいとうあさこ\n",
      "渡辺直美\t海原やすよ・ともこ\tオアシズ\tイモトアヤコ\t柏木由紀\n",
      "小嶋陽菜\t板野友美\t指原莉乃\t高橋みなみ\t渡辺麻友\n",
      "大島優子\t峯岸みなみ\t黒木華\t芳根京子\t葵わかな\n",
      "上白石萌歌\t川栄李奈\t広瀬アリス\t趣里\t上白石萌音\n",
      "土屋太鳳\t橋本環奈\t森川葵\t桜田ひより\t今田美桜\n",
      "桜井日奈子\t高畑充希\t"
     ]
    }
   ],
   "source": [
    "# 好みの女性リスト\n",
    "like_list = [\"篠田麻里子\", \"前田敦子\",\n",
    "             \"波瑠\", \"永野芽郁\", \"新木優子\",\n",
    "             \"浜辺美波\", \"吉岡里帆\", \"杉咲花\",\n",
    "             \"堀北真希\", \"栗山千明\", \"清野菜名\",\n",
    "             \"本田翼\", \"小松菜奈\", \"有村架純\",\n",
    "             \"広瀬すず\", \"松岡茉優\", \"中条あやみ\"]\n",
    "\n",
    "dislike_list = [name for name in name_list if not name in like_list]\n",
    "\n",
    "# 女性リスト\n",
    "print(\"-\" * 50)\n",
    "print(\"好みの女性\")\n",
    "for i, name in enumerate(like_list):\n",
    "    if (i+1) % 5==0:\n",
    "        print(name)\n",
    "    else:\n",
    "        print(name, end=\"\\t\")\n",
    "\n",
    "print(\"\")\n",
    "print(\"-\" * 50)\n",
    "print(\"好みでないの女性\")\n",
    "for i, name in enumerate(dislike_list):\n",
    "    if (i+1) % 5==0:\n",
    "        print(name)\n",
    "    else:\n",
    "        print(name, end=\"\\t\")"
   ]
  }
 ],
 "metadata": {
  "kernelspec": {
   "display_name": "Python 3",
   "language": "python",
   "name": "python3"
  },
  "language_info": {
   "codemirror_mode": {
    "name": "ipython",
    "version": 3
   },
   "file_extension": ".py",
   "mimetype": "text/x-python",
   "name": "python",
   "nbconvert_exporter": "python",
   "pygments_lexer": "ipython3",
   "version": "3.6.5"
  }
 },
 "nbformat": 4,
 "nbformat_minor": 2
}
