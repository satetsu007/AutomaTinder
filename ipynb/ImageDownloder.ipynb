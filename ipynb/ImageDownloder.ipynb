{
 "cells": [
  {
   "cell_type": "code",
   "execution_count": null,
   "metadata": {},
   "outputs": [],
   "source": [
    "import os\n",
    "import numpy as np\n",
    "import pandas as pd\n",
    "from google_images_download import google_images_download\n",
    "import sys\n",
    "import matplotlib.pyplot as plt\n",
    "import random\n",
    "\n",
    "sys.path.append(\"../src\")\n",
    "\n",
    "from ImageDownloader import ImageDownloader\n",
    "\n",
    "plt.style.use(\"ggplot\")\n",
    "\n",
    "%matplotlib inline"
   ]
  },
  {
   "cell_type": "code",
   "execution_count": null,
   "metadata": {},
   "outputs": [],
   "source": [
    "CarMaker = [\"BMW\", \"Audi\", \"mercedes\", \"VW\", \"Porche\", \"Renault\", \"MINI\", \"AMG\", \"Bentley\", # 欧州車\n",
    "            \"Jaguar\", \"Rover\", \"Land Rover\", \"FIAT\", \"Alfa Romeo\", \"Abarth\", \"Maserati\", \"VOLVO\",  # 欧州車\n",
    "            \"Ford\", \"Dodge\", \"HUMMER\", \"Jeep\", \"GMC\", \"Chrysler\", \"Chevrolet\", \"Cadillac\", # アメ車\n",
    "            \"Toyota\", \"Honda\", \"Nissan\", \"Mazda\", \"Suzuki\", \"Daihatsu\", \"Mitsubishi\", \"Subaru\", \"Lexus\", \"Acura\", # 日本車\n",
    "            \"BUGATTI\", \"lamborghini\", \"ferrari\", \"pagani\", \"McLaren\", # スーパーカー\n",
    "            \"Tesla\"] # 電気自動車"
   ]
  },
  {
   "cell_type": "code",
   "execution_count": null,
   "metadata": {
    "scrolled": true
   },
   "outputs": [],
   "source": [
    "numImages = 100\n",
    "\n",
    "while(True):\n",
    "    # 自動車メーカーの順序をシャッフル\n",
    "    random.shuffle(CarMaker)\n",
    "    # 自動車メーカーリストを結合\n",
    "    keyword = \",\".join(CarMaker)\n",
    "    # ダウンロード用クラス定義\n",
    "    idown = ImageDownloader(keyword, numImages)\n",
    "    # ダウンロード\n",
    "    try:\n",
    "        idown.download(\"..\")\n",
    "    except:\n",
    "        pass\n",
    "    CarMaker_folders = [f for f in os.listdir(\"../data\") if f != \".DS_Store\"]\n",
    "    CarMaker_len = [len(os.listdir(\"../data/{}\".format(f))) for f in CarMaker]\n",
    "    # 自動車メーカー毎の画像数をデータフレームにする\n",
    "    Car_len_df = pd.DataFrame(CarMaker_len, index=CarMaker, columns=[\"length\"])\n",
    "    # 総画像数が10000枚を超えたら終了\n",
    "    if Car_len_df.sum()[0] >= 1000:\n",
    "        break\n",
    "# 画像数を降順でソート\n",
    "Car_len_df.sort_values(\"length\", ascending=False, inplace=True)\n",
    "# 画像数をBarで表示\n",
    "Car_len_df.plot(kind=\"bar\", figsize=(16, 9))"
   ]
  },
  {
   "cell_type": "code",
   "execution_count": null,
   "metadata": {},
   "outputs": [],
   "source": []
  }
 ],
 "metadata": {
  "kernelspec": {
   "display_name": "Python 3",
   "language": "python",
   "name": "python3"
  },
  "language_info": {
   "codemirror_mode": {
    "name": "ipython",
    "version": 3
   },
   "file_extension": ".py",
   "mimetype": "text/x-python",
   "name": "python",
   "nbconvert_exporter": "python",
   "pygments_lexer": "ipython3",
   "version": "3.7.1"
  }
 },
 "nbformat": 4,
 "nbformat_minor": 2
}