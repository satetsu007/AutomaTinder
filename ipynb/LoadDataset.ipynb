{
 "cells": [
  {
   "cell_type": "code",
   "execution_count": 1,
   "metadata": {},
   "outputs": [],
   "source": [
    "import os\n",
    "import numpy as np\n",
    "import sys\n",
    "import pickle\n",
    "\n",
    "# Dataset.pyの格納先を環境変数に追加する\n",
    "sys.path.append(\"../src/utils\")\n",
    "sys.path.append(\"../src\")\n",
    "from Dataset import Dataset"
   ]
  },
  {
   "cell_type": "code",
   "execution_count": 2,
   "metadata": {},
   "outputs": [],
   "source": [
    "# データセットを定義\n",
    "dataset = Dataset()\n",
    "# pickleの格納先\n",
    "pickle_path = \"../data/dataset.pkl\"\n",
    "# pickleからデータセットを読み込む\n",
    "dataset.read_pickle(pickle_path)"
   ]
  },
  {
   "cell_type": "code",
   "execution_count": 3,
   "metadata": {},
   "outputs": [],
   "source": [
    "# 学習データとテストデータの割合\n",
    "ratio = 0.2\n",
    "# 学習データとテストデータに分ける\n",
    "dataset.split_data(ratio)"
   ]
  },
  {
   "cell_type": "code",
   "execution_count": 4,
   "metadata": {},
   "outputs": [
    {
     "data": {
      "text/plain": [
       "''"
      ]
     },
     "execution_count": 4,
     "metadata": {},
     "output_type": "execute_result"
    }
   ],
   "source": [
    "### datasetのデータが格納された変数\n",
    "\n",
    "# 学習データ: 説明変数(画像)\n",
    "dataset.X_train\n",
    "# 学習データ: 目的変数(ラベル)\n",
    "dataset.y_train\n",
    "# 学習データ: ファイルパス\n",
    "dataset.path_test\n",
    "# テストデータ: 説明変数(画像)\n",
    "dataset.X_test\n",
    "# テストデータ: 目的変数(ラベル)\n",
    "dataset.y_test\n",
    "# テストデータ: ファイルパス\n",
    "dataset.path_test\n",
    "\n",
    "\"\""
   ]
  },
  {
   "cell_type": "code",
   "execution_count": null,
   "metadata": {},
   "outputs": [],
   "source": []
  }
 ],
 "metadata": {
  "kernelspec": {
   "display_name": "Python 3",
   "language": "python",
   "name": "python3"
  },
  "language_info": {
   "codemirror_mode": {
    "name": "ipython",
    "version": 3
   },
   "file_extension": ".py",
   "mimetype": "text/x-python",
   "name": "python",
   "nbconvert_exporter": "python",
   "pygments_lexer": "ipython3",
   "version": "3.6.5"
  }
 },
 "nbformat": 4,
 "nbformat_minor": 2
}
